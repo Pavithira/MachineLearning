{
 "cells": [
  {
   "cell_type": "code",
   "execution_count": 1,
   "id": "de9c044a-c2c0-4f12-a8f0-2520acfb987f",
   "metadata": {},
   "outputs": [],
   "source": [
    "import pickle\n",
    "import numpy as np"
   ]
  },
  {
   "cell_type": "code",
   "execution_count": 3,
   "id": "e7701654-72bf-4550-8542-d9776864ddb7",
   "metadata": {},
   "outputs": [
    {
     "name": "stdout",
     "output_type": "stream",
     "text": [
      "Predictions using loaded model: [1]\n"
     ]
    }
   ],
   "source": [
    "# Load and Predict using the saved model\n",
    "with open('CKD_best_model.pkl', 'rb') as file:\n",
    "    loaded_model = pickle.load(file)\n",
    "predictions = loaded_model.predict([[2,76.45,3,0,148.112676,57.482105,3.056,137.52,4.62,2.51,38.86,8408.19,4.7,0,1,0,0,1,0,0,0,0,0,0,1,1,0]])\n",
    "print(\"Predictions using loaded model:\", predictions)"
   ]
  },
  {
   "cell_type": "code",
   "execution_count": null,
   "id": "069d89cb-fb3f-4ed4-b6d6-bab94b13b10f",
   "metadata": {},
   "outputs": [],
   "source": []
  },
  {
   "cell_type": "code",
   "execution_count": null,
   "id": "a0045f3b-f69a-4973-ad56-b7d89f537b5c",
   "metadata": {},
   "outputs": [],
   "source": []
  }
 ],
 "metadata": {
  "kernelspec": {
   "display_name": "Python [conda env:base] *",
   "language": "python",
   "name": "conda-base-py"
  },
  "language_info": {
   "codemirror_mode": {
    "name": "ipython",
    "version": 3
   },
   "file_extension": ".py",
   "mimetype": "text/x-python",
   "name": "python",
   "nbconvert_exporter": "python",
   "pygments_lexer": "ipython3",
   "version": "3.12.7"
  }
 },
 "nbformat": 4,
 "nbformat_minor": 5
}

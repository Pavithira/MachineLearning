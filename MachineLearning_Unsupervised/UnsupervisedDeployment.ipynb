{
 "cells": [
  {
   "cell_type": "code",
   "execution_count": 26,
   "id": "d2d90035-df38-4004-9058-6d7af7a5faef",
   "metadata": {},
   "outputs": [
    {
     "name": "stdout",
     "output_type": "stream",
     "text": [
      "New data loaded.\n",
      "Genre column encoded.\n",
      "CustomerID column dropped.\n",
      "Data scaled successfully.\n",
      "MODEL:::: KMeans(n_clusters=5, random_state=42)\n",
      "KMeans model loaded successfully.\n",
      "Clusters predicted using KMeans and labels added to the data.\n",
      "Results saved to KMeans_predicted_clusters.csv\n"
     ]
    }
   ],
   "source": [
    "import pandas as pd\n",
    "import joblib\n",
    "from sklearn.preprocessing import StandardScaler\n",
    "\n",
    "def preprocess_new_data(file_path):\n",
    "    # Load new data\n",
    "    df = pd.read_csv(file_path)\n",
    "    print(\"New data loaded.\")\n",
    "\n",
    "    # Example Preprocessing\n",
    "    if 'Genre' in df.columns:\n",
    "        df['Genre'] = df['Genre'].map({'Male': 1, 'Female': 0})\n",
    "        print(\"Genre column encoded.\")\n",
    "    \n",
    "    if 'CustomerID' in df.columns:\n",
    "        df.drop('CustomerID', axis=1, inplace=True)\n",
    "        print(\"CustomerID column dropped.\")\n",
    "\n",
    "    # Select top features\n",
    "    selected_features = ['Annual Income (k$)', 'Spending Score (1-100)']\n",
    "    data = df[selected_features]\n",
    "\n",
    "    # Scale the data\n",
    "    scaler = StandardScaler()\n",
    "    scaled_data = scaler.fit_transform(data)\n",
    "    print(\"Data scaled successfully.\")\n",
    "    \n",
    "    return scaled_data, df\n",
    "\n",
    "def predict_clusters(model_name, scaled_data, original_df):\n",
    "    try:\n",
    "        # Load the model\n",
    "        model = joblib.load(f'{model_name}_best_model.pkl')\n",
    "        print(\"MODEL::::\",model)\n",
    "        print(f\"{model_name} model loaded successfully.\")\n",
    "        \n",
    "        # Perform predictions\n",
    "        if model_name == 'KMeans':\n",
    "            cluster_labels = model.predict(scaled_data)\n",
    "        elif model_name == 'Agglomerative':\n",
    "            cluster_labels = model.fit_predict(scaled_data)\n",
    "        elif model_name == 'DBSCAN':\n",
    "            cluster_labels = model.fit_predict(scaled_data)\n",
    "        else:\n",
    "            print(f\"Unsupported model: {model_name}\")\n",
    "            return\n",
    "\n",
    "        # Add cluster labels to the original dataframe\n",
    "        original_df[f'{model_name}_Cluster'] = cluster_labels\n",
    "        print(f\"Clusters predicted using {model_name} and labels added to the data.\")\n",
    "    except Exception as e:\n",
    "        print(f\"Error during prediction: {e}\")\n",
    "\n",
    "def save_results(df, output_path):\n",
    "    df.to_csv(output_path, index=False)\n",
    "    print(f\"Results saved to {output_path}\")\n",
    "\n",
    "def main(model_name='KMeans'):\n",
    "    new_data_path = 'Mall_Customers_prediction.csv'\n",
    "    output_path = f'{model_name}_predicted_clusters.csv'\n",
    "    \n",
    "    scaled_data, original_df = preprocess_new_data(new_data_path)\n",
    "    predict_clusters(model_name, scaled_data, original_df)\n",
    "    save_results(original_df, output_path)\n",
    "\n",
    "if __name__ == \"__main__\":\n",
    "    # Change model_name to 'KMeans', 'DBSCAN', or 'Agglomerative' as needed\n",
    "    main()\n"
   ]
  },
  {
   "cell_type": "code",
   "execution_count": null,
   "id": "7b18eb76-e101-4c32-b678-71cfee9e79e6",
   "metadata": {},
   "outputs": [],
   "source": []
  },
  {
   "cell_type": "code",
   "execution_count": null,
   "id": "6a3a7fa1-4a02-44ad-bf80-7a58b5ba7a0d",
   "metadata": {},
   "outputs": [],
   "source": []
  },
  {
   "cell_type": "code",
   "execution_count": null,
   "id": "c077d73b-45db-4c89-86f4-a0e75a6c6648",
   "metadata": {},
   "outputs": [],
   "source": []
  }
 ],
 "metadata": {
  "kernelspec": {
   "display_name": "Python [conda env:base] *",
   "language": "python",
   "name": "conda-base-py"
  },
  "language_info": {
   "codemirror_mode": {
    "name": "ipython",
    "version": 3
   },
   "file_extension": ".py",
   "mimetype": "text/x-python",
   "name": "python",
   "nbconvert_exporter": "python",
   "pygments_lexer": "ipython3",
   "version": "3.12.7"
  }
 },
 "nbformat": 4,
 "nbformat_minor": 5
}

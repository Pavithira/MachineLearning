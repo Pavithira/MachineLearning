{
 "cells": [
  {
   "cell_type": "code",
   "execution_count": 5,
   "id": "a58af814-b852-4b19-b0da-6a4fb423951d",
   "metadata": {},
   "outputs": [],
   "source": [
    "import pickle"
   ]
  },
  {
   "cell_type": "code",
   "execution_count": 7,
   "id": "54c67191-9970-454d-8d50-4933bea42edc",
   "metadata": {},
   "outputs": [
    {
     "name": "stdin",
     "output_type": "stream",
     "text": [
      "Age: 25\n",
      "BMI: 32\n",
      "Children: 2\n",
      "Gender Female- 0 or Male - 1: 0\n",
      "Smoker No-0 or Yes-1: 0\n"
     ]
    }
   ],
   "source": [
    "age_input=float(input(\"Age:\"))\n",
    "bmi_input=float(input(\"BMI:\"))\n",
    "children_input=float(input(\"Children:\"))\n",
    "gender_input=int(input(\"Gender Female- 0 or Male - 1:\"))\n",
    "smoker_input=int(input(\"Smoker No-0 or Yes-1:\"))"
   ]
  },
  {
   "cell_type": "code",
   "execution_count": 11,
   "id": "4c0c4118-0ae3-4d6a-8099-e6d8a54975e3",
   "metadata": {},
   "outputs": [
    {
     "name": "stdout",
     "output_type": "stream",
     "text": [
      "Predicted Charge: [16205.193]\n"
     ]
    }
   ],
   "source": [
    "import pickle\n",
    "import numpy as np\n",
    "\n",
    "# Load the best model\n",
    "with open('insurance_final_model.pkl', 'rb') as file:\n",
    "    loaded_model = pickle.load(file)\n",
    "\n",
    "# Predict on new data\n",
    "prediction = loaded_model.predict([[age_input,bmi_input,children_input,gender_input,smoker_input]])\n",
    "\n",
    "# load_model=pickle.load(open(\"insurance_final_model.pkl\",'rb'))\n",
    "# prediction=loaded_model.predict([[42,45,2,0,1]])\n",
    "print(\"Predicted Charge for the given input is :\", prediction)"
   ]
  },
  {
   "cell_type": "code",
   "execution_count": null,
   "id": "1592d5fc-57bc-4487-9f9a-de1507a0c0e2",
   "metadata": {},
   "outputs": [],
   "source": []
  }
 ],
 "metadata": {
  "kernelspec": {
   "display_name": "Python [conda env:base] *",
   "language": "python",
   "name": "conda-base-py"
  },
  "language_info": {
   "codemirror_mode": {
    "name": "ipython",
    "version": 3
   },
   "file_extension": ".py",
   "mimetype": "text/x-python",
   "name": "python",
   "nbconvert_exporter": "python",
   "pygments_lexer": "ipython3",
   "version": "3.12.7"
  }
 },
 "nbformat": 4,
 "nbformat_minor": 5
}

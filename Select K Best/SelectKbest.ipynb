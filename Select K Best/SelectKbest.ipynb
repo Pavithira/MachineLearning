{
 "cells": [
  {
   "cell_type": "code",
   "execution_count": 1,
   "id": "1837a7f7-f7a1-4857-9724-1c82e7ec001c",
   "metadata": {},
   "outputs": [],
   "source": [
    "import pandas as pd\n",
    "from sklearn.model_selection import train_test_split \n",
    "import time\n",
    "import numpy as np\n",
    "from sklearn.preprocessing import StandardScaler\n",
    "from sklearn.feature_selection import SelectKBest\n",
    "from sklearn.feature_selection import chi2\n",
    "from sklearn.feature_selection import RFE\n",
    "from sklearn.linear_model import LogisticRegression\n",
    "import pickle\n",
    "import matplotlib.pyplot as plt"
   ]
  },
  {
   "cell_type": "code",
   "execution_count": 2,
   "id": "0d3c5539-7cc7-4a90-b686-3a11389c5d66",
   "metadata": {},
   "outputs": [],
   "source": [
    "def selectkbest(indep_X,dep_Y,n):\n",
    "        test = SelectKBest(score_func=chi2, k=n)\n",
    "        fit1= test.fit(indep_X,dep_Y)     \n",
    "        # summarize scores       \n",
    "        selectk_features = fit1.transform(indep_X)\n",
    "        # Get selected feature names (if X is a DataFrame)\n",
    "        selected_features = indep_X.columns[test.get_support()].tolist()\n",
    "        print(f\"Top {n} Features: {selected_features}\")\n",
    "        return selectk_features"
   ]
  },
  {
   "cell_type": "code",
   "execution_count": 3,
   "id": "594e3e7c-f04c-4089-8468-be63a9e6506a",
   "metadata": {},
   "outputs": [],
   "source": [
    "def split_scalar(indep_X,dep_Y):\n",
    "        X_train, X_test, y_train, y_test = train_test_split(indep_X, dep_Y, test_size = 0.25, random_state = 0)\n",
    "        sc = StandardScaler()\n",
    "        X_train = sc.fit_transform(X_train)\n",
    "        X_test = sc.transform(X_test)    \n",
    "        return X_train, X_test, y_train, y_test"
   ]
  },
  {
   "cell_type": "code",
   "execution_count": 4,
   "id": "79740b5a-9fe0-47be-b60b-1726c809823d",
   "metadata": {},
   "outputs": [],
   "source": [
    "def r2_prediction(regressor,X_test,y_test):\n",
    "     y_pred = regressor.predict(X_test)\n",
    "     from sklearn.metrics import r2_score\n",
    "     r2=r2_score(y_test,y_pred)\n",
    "     return r2"
   ]
  },
  {
   "cell_type": "code",
   "execution_count": 5,
   "id": "3eb994e7-b132-4159-9fe6-bbde4a32b6f4",
   "metadata": {},
   "outputs": [],
   "source": [
    "def Linear(X_train,y_train,X_test,y_test):       \n",
    "        # Fitting K-NN to the Training set\n",
    "        from sklearn.linear_model import LinearRegression\n",
    "        regressor = LinearRegression()\n",
    "        regressor.fit(X_train, y_train)\n",
    "        r2=r2_prediction(regressor,X_test,y_test)\n",
    "        return  r2   \n",
    "    \n",
    "def svm_linear(X_train,y_train,X_test,y_test):\n",
    "                \n",
    "        from sklearn.svm import SVR\n",
    "        regressor = SVR(kernel = 'linear')\n",
    "        regressor.fit(X_train, y_train)\n",
    "        r2=r2_prediction(regressor,X_test,y_test)\n",
    "        return  r2  \n",
    "    \n",
    "def svm_NL(X_train,y_train,X_test,y_test):\n",
    "                \n",
    "        from sklearn.svm import SVR\n",
    "        regressor = SVR(kernel = 'rbf')\n",
    "        regressor.fit(X_train, y_train)\n",
    "        r2=r2_prediction(regressor,X_test,y_test)\n",
    "        return  r2  \n",
    "     \n",
    "\n",
    "def Decision(X_train,y_train,X_test,y_test):\n",
    "        \n",
    "        # Fitting K-NN to the Training setC\n",
    "        from sklearn.tree import DecisionTreeRegressor\n",
    "        regressor = DecisionTreeRegressor(random_state = 0)\n",
    "        regressor.fit(X_train, y_train)\n",
    "        r2=r2_prediction(regressor,X_test,y_test)\n",
    "        return  r2  \n",
    "     \n",
    "\n",
    "def random(X_train,y_train,X_test,y_test):       \n",
    "        # Fitting K-NN to the Training set\n",
    "        from sklearn.ensemble import RandomForestRegressor\n",
    "        regressor = RandomForestRegressor(n_estimators = 10, random_state = 0)\n",
    "        regressor.fit(X_train, y_train)\n",
    "        r2=r2_prediction(regressor,X_test,y_test)\n",
    "        return  r2 "
   ]
  },
  {
   "cell_type": "code",
   "execution_count": 6,
   "id": "32685a09-81db-4f92-b702-f8c6c154afb2",
   "metadata": {},
   "outputs": [],
   "source": [
    "def selectk_regression(acclin,accsvml,accsvmnl,accdes,accrf): \n",
    "    \n",
    "    # dataframe=pd.DataFrame(index=['ChiSquare'],columns=['Linear','SVMl','SVMnl','Decision','Random'])\n",
    "\n",
    "    #since we have only one row - could be simplified to direct assignments\n",
    "    dataframe = pd.DataFrame({\n",
    "    'Linear': [acclin[0]],\n",
    "    'SVMl': [accsvml[0]],\n",
    "    'SVMnl': [accsvmnl[0]],\n",
    "    'Decision': [accdes[0]],\n",
    "    'Random': [accrf[0]]\n",
    "        }, index=['ChiSquare'])\n",
    "    \n",
    "    #below code is for multiple index\n",
    "\n",
    "    # for number,idex in enumerate(dataframe.index):\n",
    "        \n",
    "    #     dataframe['Linear'][idex]=acclin[number]       \n",
    "    #     dataframe['SVMl'][idex]=accsvml[number]\n",
    "    #     dataframe['SVMnl'][idex]=accsvmnl[number]\n",
    "    #     dataframe['Decision'][idex]=accdes[number]\n",
    "    #     dataframe['Random'][idex]=accrf[number]\n",
    "    return dataframe"
   ]
  },
  {
   "cell_type": "code",
   "execution_count": 7,
   "id": "06ed286c-e38c-4d05-ba41-516dde2b994c",
   "metadata": {},
   "outputs": [
    {
     "name": "stdout",
     "output_type": "stream",
     "text": [
      "Top 5 Features: ['bgr', 'bu', 'sc', 'pcv', 'wc']\n",
      "             Linear      SVMl     SVMnl  Decision    Random\n",
      "ChiSquare  0.551985  0.545395  0.749654  0.696181  0.836806\n"
     ]
    }
   ],
   "source": [
    "# Main function\n",
    "def main():\n",
    "    dataset1=pd.read_csv(\"prep.csv\",index_col=None)\n",
    "    \n",
    "    df2=dataset1\n",
    "    \n",
    "    df2 = pd.get_dummies(df2, drop_first=True)\n",
    "    \n",
    "    # indep_X=df2.drop('classification_yes', 1)\n",
    "    dep_Y=df2['classification_yes']\n",
    "    indep_X = df2.drop(columns=['classification_yes'])  \n",
    "    \n",
    "    \n",
    "    kbest=selectkbest(indep_X,dep_Y,5)\n",
    "    # print(\"KBEST:\",kbest)\n",
    "    \n",
    "    acclin=[]\n",
    "    accsvml=[]\n",
    "    accsvmnl=[]\n",
    "    accdes=[]\n",
    "    accrf=[]\n",
    "    \n",
    "    X_train, X_test, y_train, y_test=split_scalar(kbest,dep_Y)  \n",
    "    for i in kbest:   \n",
    "        r2_lin=Linear(X_train,y_train,X_test,y_test)\n",
    "        acclin.append(r2_lin)\n",
    "        \n",
    "        r2_sl=svm_linear(X_train,y_train,X_test,y_test)    \n",
    "        accsvml.append(r2_sl)\n",
    "        \n",
    "        r2_NL=svm_NL(X_train,y_train,X_test,y_test)\n",
    "        accsvmnl.append(r2_NL)\n",
    "        \n",
    "        r2_d=Decision(X_train,y_train,X_test,y_test)\n",
    "        accdes.append(r2_d)\n",
    "        \n",
    "        r2_r=random(X_train,y_train,X_test,y_test)\n",
    "        accrf.append(r2_r)\n",
    "        \n",
    "        \n",
    "    result=selectk_regression(acclin,accsvml,accsvmnl,accdes,accrf)\n",
    "    print(result)\n",
    "    \n",
    "if __name__ == '__main__':\n",
    "    main()"
   ]
  },
  {
   "cell_type": "code",
   "execution_count": null,
   "id": "2561cd8e-92d6-42a5-8916-39e349c87e5e",
   "metadata": {},
   "outputs": [],
   "source": []
  },
  {
   "cell_type": "code",
   "execution_count": null,
   "id": "ec725356-76ac-4ce3-8df1-bbc77a82ee12",
   "metadata": {},
   "outputs": [],
   "source": []
  },
  {
   "cell_type": "code",
   "execution_count": null,
   "id": "8adbfb57-0eac-48fc-b321-7d2e425a048a",
   "metadata": {},
   "outputs": [],
   "source": []
  },
  {
   "cell_type": "code",
   "execution_count": null,
   "id": "85b7fc8b-cd8a-4734-82d5-70031ea2c8dd",
   "metadata": {},
   "outputs": [],
   "source": []
  }
 ],
 "metadata": {
  "kernelspec": {
   "display_name": "Python [conda env:base] *",
   "language": "python",
   "name": "conda-base-py"
  },
  "language_info": {
   "codemirror_mode": {
    "name": "ipython",
    "version": 3
   },
   "file_extension": ".py",
   "mimetype": "text/x-python",
   "name": "python",
   "nbconvert_exporter": "python",
   "pygments_lexer": "ipython3",
   "version": "3.12.7"
  }
 },
 "nbformat": 4,
 "nbformat_minor": 5
}
